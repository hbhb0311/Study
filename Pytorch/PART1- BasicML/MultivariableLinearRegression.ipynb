{
 "cells": [
  {
   "cell_type": "markdown",
   "metadata": {},
   "source": [
    "# Full code with torch.optim (1)"
   ]
  },
  {
   "cell_type": "code",
   "execution_count": 3,
   "metadata": {},
   "outputs": [
    {
     "name": "stdout",
     "output_type": "stream",
     "text": [
      "Epoch    1/20 hypothesis: tensor([0., 0., 0., 0., 0.]), Cost: 29661.800781\n",
      "Epoch    2/20 hypothesis: tensor([67.2578, 80.8397, 79.6523, 86.7394, 61.6605]), Cost: 9298.520508\n",
      "Epoch    3/20 hypothesis: tensor([104.9128, 126.0990, 124.2466, 135.3015,  96.1821]), Cost: 2915.712402\n",
      "Epoch    4/20 hypothesis: tensor([125.9942, 151.4381, 149.2133, 162.4896, 115.5097]), Cost: 915.040527\n",
      "Epoch    5/20 hypothesis: tensor([137.7968, 165.6247, 163.1911, 177.7112, 126.3307]), Cost: 287.936005\n",
      "Epoch    6/20 hypothesis: tensor([144.4044, 173.5674, 171.0168, 186.2332, 132.3891]), Cost: 91.371010\n",
      "Epoch    7/20 hypothesis: tensor([148.1035, 178.0144, 175.3980, 191.0042, 135.7812]), Cost: 29.758139\n",
      "Epoch    8/20 hypothesis: tensor([150.1744, 180.5042, 177.8508, 193.6753, 137.6805]), Cost: 10.445305\n",
      "Epoch    9/20 hypothesis: tensor([151.3336, 181.8983, 179.2240, 195.1707, 138.7440]), Cost: 4.391228\n",
      "Epoch   10/20 hypothesis: tensor([151.9824, 182.6789, 179.9928, 196.0079, 139.3396]), Cost: 2.493135\n",
      "Epoch   11/20 hypothesis: tensor([152.3454, 183.1161, 180.4231, 196.4765, 139.6732]), Cost: 1.897688\n",
      "Epoch   12/20 hypothesis: tensor([152.5485, 183.3610, 180.6640, 196.7389, 139.8602]), Cost: 1.710541\n",
      "Epoch   13/20 hypothesis: tensor([152.6620, 183.4982, 180.7988, 196.8857, 139.9651]), Cost: 1.651412\n",
      "Epoch   14/20 hypothesis: tensor([152.7253, 183.5752, 180.8742, 196.9678, 140.0240]), Cost: 1.632387\n",
      "Epoch   15/20 hypothesis: tensor([152.7606, 183.6184, 180.9164, 197.0138, 140.0571]), Cost: 1.625923\n",
      "Epoch   16/20 hypothesis: tensor([152.7802, 183.6427, 180.9399, 197.0395, 140.0759]), Cost: 1.623412\n",
      "Epoch   17/20 hypothesis: tensor([152.7909, 183.6565, 180.9530, 197.0538, 140.0865]), Cost: 1.622141\n",
      "Epoch   18/20 hypothesis: tensor([152.7968, 183.6643, 180.9603, 197.0618, 140.0927]), Cost: 1.621253\n",
      "Epoch   19/20 hypothesis: tensor([152.7999, 183.6688, 180.9644, 197.0662, 140.0963]), Cost: 1.620500\n",
      "Epoch   20/20 hypothesis: tensor([152.8014, 183.6715, 180.9666, 197.0686, 140.0985]), Cost: 1.619770\n"
     ]
    }
   ],
   "source": [
    "import torch\n",
    "from torch import optim\n",
    "\n",
    "# 데이터 정의\n",
    "x_train = torch.FloatTensor([[73, 80, 75], \n",
    "                             [93, 88, 93],\n",
    "                             [89, 91, 90], \n",
    "                             [96, 98, 100], \n",
    "                             [73, 66, 70]])\n",
    "y_train = torch.FloatTensor([[152], [185], [180], [196], [142]])\n",
    "\n",
    "# 모델 초기화\n",
    "W = torch.zeros((3, 1), requires_grad = True)\n",
    "b = torch.zeros(1, requires_grad = True)\n",
    "\n",
    "# optimizer 설정\n",
    "optimizer = optim.SGD([W, b], lr = 1e-5)\n",
    "\n",
    "nb_epochs = 20\n",
    "for epoch in range(1, nb_epochs + 1):\n",
    "    # Hypothesis 계산\n",
    "    hypothesis = x_train.matmul(W) + b\n",
    "    \n",
    "    # cost 게산\n",
    "    cost = torch.mean((hypothesis - y_train) ** 2)\n",
    "    \n",
    "    # cost로 H(x) 게산\n",
    "    optimizer.zero_grad()\n",
    "    cost.backward()\n",
    "    optimizer.step()\n",
    "    \n",
    "    print('Epoch {:4d}/{} hypothesis: {}, Cost: {:.6f}'.format(\n",
    "                epoch, nb_epochs, hypothesis.squeeze().detach(), cost.item()))\n"
   ]
  },
  {
   "cell_type": "markdown",
   "metadata": {},
   "source": [
    "## nn.Module"
   ]
  },
  {
   "cell_type": "code",
   "execution_count": 6,
   "metadata": {},
   "outputs": [],
   "source": [
    "import torch.nn as nn\n",
    "\n",
    "# nn.Module을 상속해 모델 생성\n",
    "class MultivariableLinearRegressionModel(nn.Module):\n",
    "    def __init__(self):\n",
    "        super().__init__()\n",
    "        self.linear = nn.Linear(3, 1) # 입력 차원 3, 출력 차원 1\n",
    "    \n",
    "    # hypothesis 계산은 forward()에서\n",
    "    # gradient 계산은 pytorch가 알아서 해줌 (backward())\n",
    "    def forward(self, x):\n",
    "        return self.linear(x)\n",
    "    \n",
    "# hypothesis = model(x_train)"
   ]
  },
  {
   "cell_type": "markdown",
   "metadata": {},
   "source": [
    "## F.mse_loss"
   ]
  },
  {
   "cell_type": "code",
   "execution_count": null,
   "metadata": {},
   "outputs": [],
   "source": [
    "import torch.nn.functional as F\n",
    "\n",
    "cost = F.mse_loss(prediction, y_train)\n",
    "# vs cost = torch.mean((hypothesis - y_train) ** 2)\n",
    "\n",
    "## torch에서 제공하는 loss function 사용하면\n",
    "## 쉽게 다른 loss와 교체 가능하다는 장점이 있음"
   ]
  },
  {
   "cell_type": "markdown",
   "metadata": {},
   "source": [
    "# Full code with torch.optim (2)"
   ]
  },
  {
   "cell_type": "code",
   "execution_count": 9,
   "metadata": {},
   "outputs": [
    {
     "name": "stdout",
     "output_type": "stream",
     "text": [
      "Epoch    1/20 hypothesis: tensor([10.5158, 12.2525, 12.3964, 12.1094, 10.3735]), Cost: 25818.347656\n",
      "Epoch    2/20 hypothesis: tensor([73.2654, 87.6736, 86.7097, 93.0347, 67.9009]), Cost: 8093.435059\n",
      "Epoch    3/20 hypothesis: tensor([108.3965, 129.8992, 128.3149, 138.3419, 100.1085]), Cost: 2537.615723\n",
      "Epoch    4/20 hypothesis: tensor([128.0649, 153.5398, 151.6081, 163.7076, 118.1405]), Cost: 796.161804\n",
      "Epoch    5/20 hypothesis: tensor([139.0764, 166.7755, 164.6490, 177.9089, 128.2361]), Cost: 250.307373\n",
      "Epoch    6/20 hypothesis: tensor([145.2411, 174.1858, 171.9501, 185.8597, 133.8884]), Cost: 79.210892\n",
      "Epoch    7/20 hypothesis: tensor([148.6924, 178.3346, 176.0377, 190.3110, 137.0530]), Cost: 25.580986\n",
      "Epoch    8/20 hypothesis: tensor([150.6244, 180.6575, 178.3261, 192.8031, 138.8250]), Cost: 8.770417\n",
      "Epoch    9/20 hypothesis: tensor([151.7060, 181.9581, 179.6073, 194.1983, 139.8171]), Cost: 3.500961\n",
      "Epoch   10/20 hypothesis: tensor([152.3113, 182.6864, 180.3245, 194.9794, 140.3728]), Cost: 1.848910\n",
      "Epoch   11/20 hypothesis: tensor([152.6501, 183.0942, 180.7260, 195.4167, 140.6839]), Cost: 1.330785\n",
      "Epoch   12/20 hypothesis: tensor([152.8396, 183.3227, 180.9507, 195.6615, 140.8583]), Cost: 1.168024\n",
      "Epoch   13/20 hypothesis: tensor([152.9455, 183.4507, 181.0765, 195.7985, 140.9561]), Cost: 1.116717\n",
      "Epoch   14/20 hypothesis: tensor([153.0046, 183.5225, 181.1469, 195.8751, 141.0110]), Cost: 1.100290\n",
      "Epoch   15/20 hypothesis: tensor([153.0376, 183.5628, 181.1862, 195.9180, 141.0418]), Cost: 1.094826\n",
      "Epoch   16/20 hypothesis: tensor([153.0559, 183.5854, 181.2082, 195.9420, 141.0593]), Cost: 1.092802\n",
      "Epoch   17/20 hypothesis: tensor([153.0660, 183.5983, 181.2205, 195.9554, 141.0692]), Cost: 1.091827\n",
      "Epoch   18/20 hypothesis: tensor([153.0714, 183.6055, 181.2272, 195.9629, 141.0748]), Cost: 1.091200\n",
      "Epoch   19/20 hypothesis: tensor([153.0743, 183.6097, 181.2310, 195.9670, 141.0781]), Cost: 1.090702\n",
      "Epoch   20/20 hypothesis: tensor([153.0758, 183.6122, 181.2331, 195.9693, 141.0802]), Cost: 1.090201\n"
     ]
    }
   ],
   "source": [
    "import torch.nn as nn\n",
    "import torch.nn.functional as F\n",
    "\n",
    "# 데이터 정의\n",
    "x_train = torch.FloatTensor([[73, 80, 75], \n",
    "                             [93, 88, 93],\n",
    "                             [89, 91, 90], \n",
    "                             [96, 98, 100], \n",
    "                             [73, 66, 70]])\n",
    "y_train = torch.FloatTensor([[152], [185], [180], [196], [142]])\n",
    "\n",
    "# 모델 초기화\n",
    "model = MultivariableLinearRegressionModel()\n",
    "\n",
    "# optimizer 설정\n",
    "optimizer = optim.SGD(model.parameters(), lr = 1e-5)\n",
    "\n",
    "nb_epochs = 20\n",
    "for epoch in range(1, nb_epochs + 1):\n",
    "    # Hypothesis 계산\n",
    "    hypothesis = model(x_train)\n",
    "    \n",
    "    # cost 게산\n",
    "    cost = F.mse_loss(hypothesis, y_train)\n",
    "    \n",
    "    # cost로 H(x) 게산\n",
    "    optimizer.zero_grad()\n",
    "    cost.backward()\n",
    "    optimizer.step()\n",
    "    \n",
    "    print('Epoch {:4d}/{} hypothesis: {}, Cost: {:.6f}'.format(\n",
    "                epoch, nb_epochs, hypothesis.squeeze().detach(), cost.item()))\n"
   ]
  }
 ],
 "metadata": {
  "kernelspec": {
   "display_name": "Python 3",
   "language": "python",
   "name": "python3"
  },
  "language_info": {
   "codemirror_mode": {
    "name": "ipython",
    "version": 3
   },
   "file_extension": ".py",
   "mimetype": "text/x-python",
   "name": "python",
   "nbconvert_exporter": "python",
   "pygments_lexer": "ipython3",
   "version": "3.8.5"
  }
 },
 "nbformat": 4,
 "nbformat_minor": 4
}
