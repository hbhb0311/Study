{
 "cells": [
  {
   "cell_type": "markdown",
   "metadata": {},
   "source": [
    "# PyTorch Dataset"
   ]
  },
  {
   "cell_type": "code",
   "execution_count": 8,
   "metadata": {},
   "outputs": [],
   "source": [
    "from torch.utils.data import Dataset\n",
    "import torch\n",
    "\n",
    "class CustomDataset(Dataset):\n",
    "    def __init__(self):\n",
    "        self.x_data = [[73, 80, 75], \n",
    "                       [93, 88, 93],\n",
    "                       [89, 91, 90], \n",
    "                       [96, 98, 100], \n",
    "                       [73, 66, 70]]\n",
    "        \n",
    "        self.y_data = [[152], [185], [180], [196], [142]]\n",
    "        \n",
    "    def __len__(self):\n",
    "        return len(self.x_data)\n",
    "    \n",
    "    def __getitem__(self, idx):\n",
    "        x = torch.FloatTensor(self.x_data[idx])\n",
    "        y = torch.FloatTensor(self.y_data[idx])\n",
    "        \n",
    "        return x, y\n",
    "    \n",
    "dataset = CustomDataset()"
   ]
  },
  {
   "cell_type": "markdown",
   "metadata": {},
   "source": [
    "# PyTorch DataLoader"
   ]
  },
  {
   "cell_type": "code",
   "execution_count": 9,
   "metadata": {},
   "outputs": [],
   "source": [
    "from torch.utils.data import DataLoader\n",
    "\n",
    "dataloader = DataLoader(\n",
    "            dataset,\n",
    "            batch_size = 2, # 각 미니배치의 크기, 통상적으로 2의 제곱수로 설정\n",
    "            shuffle = True\n",
    ")"
   ]
  },
  {
   "cell_type": "markdown",
   "metadata": {},
   "source": [
    "# Full Code with Dataset and DataLoader"
   ]
  },
  {
   "cell_type": "code",
   "execution_count": 10,
   "metadata": {},
   "outputs": [],
   "source": [
    "import torch.nn as nn\n",
    "\n",
    "# nn.Module을 상속해 모델 생성\n",
    "class MultivariableLinearRegressionModel(nn.Module):\n",
    "    def __init__(self):\n",
    "        super().__init__()\n",
    "        self.linear = nn.Linear(3, 1) # 입력 차원 3, 출력 차원 1\n",
    "    \n",
    "    # hypothesis 계산은 forward()에서\n",
    "    # gradient 계산은 pytorch가 알아서 해줌 (backward())\n",
    "    def forward(self, x):\n",
    "        return self.linear(x)\n",
    "    \n",
    "# hypothesis = model(x_train)"
   ]
  },
  {
   "cell_type": "code",
   "execution_count": 15,
   "metadata": {},
   "outputs": [
    {
     "name": "stdout",
     "output_type": "stream",
     "text": [
      "Epoch    1/20 Batch 1/3 Cost: 24115.898438\n",
      "Epoch    1/20 Batch 2/3 Cost: 19121.687500\n",
      "Epoch    1/20 Batch 3/3 Cost: 3450.487793\n",
      "Epoch    2/20 Batch 1/3 Cost: 918.047241\n",
      "Epoch    2/20 Batch 2/3 Cost: 271.689087\n",
      "Epoch    2/20 Batch 3/3 Cost: 74.181519\n",
      "Epoch    3/20 Batch 1/3 Cost: 38.136608\n",
      "Epoch    3/20 Batch 2/3 Cost: 2.710029\n",
      "Epoch    3/20 Batch 3/3 Cost: 6.471192\n",
      "Epoch    4/20 Batch 1/3 Cost: 1.127340\n",
      "Epoch    4/20 Batch 2/3 Cost: 0.444694\n",
      "Epoch    4/20 Batch 3/3 Cost: 3.318317\n",
      "Epoch    5/20 Batch 1/3 Cost: 0.808521\n",
      "Epoch    5/20 Batch 2/3 Cost: 1.593919\n",
      "Epoch    5/20 Batch 3/3 Cost: 0.561836\n",
      "Epoch    6/20 Batch 1/3 Cost: 1.356462\n",
      "Epoch    6/20 Batch 2/3 Cost: 1.234900\n",
      "Epoch    6/20 Batch 3/3 Cost: 0.001277\n",
      "Epoch    7/20 Batch 1/3 Cost: 0.228630\n",
      "Epoch    7/20 Batch 2/3 Cost: 1.766092\n",
      "Epoch    7/20 Batch 3/3 Cost: 2.662689\n",
      "Epoch    8/20 Batch 1/3 Cost: 0.952358\n",
      "Epoch    8/20 Batch 2/3 Cost: 0.522096\n",
      "Epoch    8/20 Batch 3/3 Cost: 2.938701\n",
      "Epoch    9/20 Batch 1/3 Cost: 0.581406\n",
      "Epoch    9/20 Batch 2/3 Cost: 2.380656\n",
      "Epoch    9/20 Batch 3/3 Cost: 0.568398\n",
      "Epoch   10/20 Batch 1/3 Cost: 0.489196\n",
      "Epoch   10/20 Batch 2/3 Cost: 2.397284\n",
      "Epoch   10/20 Batch 3/3 Cost: 0.865965\n",
      "Epoch   11/20 Batch 1/3 Cost: 0.856906\n",
      "Epoch   11/20 Batch 2/3 Cost: 2.561367\n",
      "Epoch   11/20 Batch 3/3 Cost: 0.097247\n",
      "Epoch   12/20 Batch 1/3 Cost: 1.245716\n",
      "Epoch   12/20 Batch 2/3 Cost: 0.928527\n",
      "Epoch   12/20 Batch 3/3 Cost: 0.871369\n",
      "Epoch   13/20 Batch 1/3 Cost: 1.596788\n",
      "Epoch   13/20 Batch 2/3 Cost: 0.248326\n",
      "Epoch   13/20 Batch 3/3 Cost: 1.237357\n",
      "Epoch   14/20 Batch 1/3 Cost: 0.712349\n",
      "Epoch   14/20 Batch 2/3 Cost: 1.155365\n",
      "Epoch   14/20 Batch 3/3 Cost: 2.234509\n",
      "Epoch   15/20 Batch 1/3 Cost: 0.936770\n",
      "Epoch   15/20 Batch 2/3 Cost: 1.677701\n",
      "Epoch   15/20 Batch 3/3 Cost: 1.080920\n",
      "Epoch   16/20 Batch 1/3 Cost: 0.581819\n",
      "Epoch   16/20 Batch 2/3 Cost: 1.223747\n",
      "Epoch   16/20 Batch 3/3 Cost: 3.102040\n",
      "Epoch   17/20 Batch 1/3 Cost: 0.152056\n",
      "Epoch   17/20 Batch 2/3 Cost: 1.163715\n",
      "Epoch   17/20 Batch 3/3 Cost: 2.540380\n",
      "Epoch   18/20 Batch 1/3 Cost: 2.036749\n",
      "Epoch   18/20 Batch 2/3 Cost: 1.045600\n",
      "Epoch   18/20 Batch 3/3 Cost: 0.594341\n",
      "Epoch   19/20 Batch 1/3 Cost: 1.778691\n",
      "Epoch   19/20 Batch 2/3 Cost: 1.149073\n",
      "Epoch   19/20 Batch 3/3 Cost: 0.714104\n",
      "Epoch   20/20 Batch 1/3 Cost: 0.328952\n",
      "Epoch   20/20 Batch 2/3 Cost: 1.944859\n",
      "Epoch   20/20 Batch 3/3 Cost: 2.137728\n"
     ]
    }
   ],
   "source": [
    "import torch.nn.functional as F\n",
    "from torch import optim\n",
    "\n",
    "model = MultivariableLinearRegressionModel()\n",
    "optimizer = optim.SGD(model.parameters(), lr = 1e-5)\n",
    "\n",
    "nb_epochs = 20\n",
    "for epoch in range(1, nb_epochs + 1):\n",
    "    for batch_idx, samples in enumerate(dataloader):\n",
    "        x_train, y_train = samples\n",
    "        prediction = model(x_train)\n",
    "        \n",
    "        # cost 게산\n",
    "        cost = F.mse_loss(prediction, y_train)\n",
    "    \n",
    "   \n",
    "        # cost로 H(x) 게산\n",
    "        optimizer.zero_grad()\n",
    "        cost.backward()\n",
    "        optimizer.step()\n",
    "    \n",
    "        print('Epoch {:4d}/{} Batch {}/{} Cost: {:.6f}'.format(\n",
    "                    epoch, nb_epochs, batch_idx+1, len(dataloader), cost.item()))\n"
   ]
  }
 ],
 "metadata": {
  "kernelspec": {
   "display_name": "Python 3",
   "language": "python",
   "name": "python3"
  },
  "language_info": {
   "codemirror_mode": {
    "name": "ipython",
    "version": 3
   },
   "file_extension": ".py",
   "mimetype": "text/x-python",
   "name": "python",
   "nbconvert_exporter": "python",
   "pygments_lexer": "ipython3",
   "version": "3.8.5"
  }
 },
 "nbformat": 4,
 "nbformat_minor": 4
}
